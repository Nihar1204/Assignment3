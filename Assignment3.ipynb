{
 "cells": [
  {
   "cell_type": "code",
   "execution_count": 1,
   "id": "c0a2ccf8-2f81-4d23-8a8f-cec70b0fbf7b",
   "metadata": {},
   "outputs": [
    {
     "name": "stdout",
     "output_type": "stream",
     "text": [
      "[1, 3, 5, 7, 9, 11, 13, 15, 17, 19, 21, 23]\n"
     ]
    }
   ],
   "source": [
    "# The keyword 'def' is used to create a function\n",
    "list1 = []\n",
    "i =1\n",
    "for i in range(25):\n",
    "    if i%2 != 0:\n",
    "        list1.append(i)\n",
    "print(list1)"
   ]
  },
  {
   "cell_type": "code",
   "execution_count": 2,
   "id": "d529f013-b5b4-4dd3-833f-bcb737a59f0e",
   "metadata": {},
   "outputs": [
    {
     "name": "stdout",
     "output_type": "stream",
     "text": [
      "Nihar Ranjan Manthan\n",
      "name: Nihar\n",
      "age: 21\n",
      "state: Odisha\n"
     ]
    }
   ],
   "source": [
    "'''In Python, *args and **kwargs are used as parameters in function definitions to allow for a variable number of \n",
    "arguments to be passed to the function. They provide flexibility when we don't know in advance how many arguments or keyword \n",
    "arguments will be provided. The *args parameter allows us to pass a variable number of positional arguments to a function. \n",
    "It collects all the positional arguments into a tuple. The name \"args\" is a convention, but we can use any valid variable \n",
    "name preceded by an asterisk (*).'''\n",
    "\n",
    "def concatenate(*args):\n",
    "    result = \"\"\n",
    "    for i in args:\n",
    "        result += i\n",
    "    return result\n",
    "\n",
    "print(concatenate(\"Nihar\", \" Ranjan \", \"Manthan\")) \n",
    "\n",
    "\n",
    "''' The **kwargs parameter, on the other hand, allows us to pass a variable number of keyword arguments to a function. \n",
    "It collects all the keyword arguments into a dictionary. The name \"kwargs\" is a convention, but we can use any valid \n",
    "variable name preceded by a double asterisk (**).'''\n",
    "\n",
    "def info(**kwargs):\n",
    "    for i, value in kwargs.items():\n",
    "        print(i + \": \" + value)\n",
    "\n",
    "info(name=\"Nihar\", age=\"21\", state=\"Odisha\")"
   ]
  },
  {
   "cell_type": "code",
   "execution_count": 3,
   "id": "b185a846-fbef-442a-a2d7-07de312722b8",
   "metadata": {},
   "outputs": [
    {
     "name": "stdout",
     "output_type": "stream",
     "text": [
      "2\n",
      "4\n",
      "6\n",
      "8\n",
      "10\n"
     ]
    }
   ],
   "source": [
    "''' In Python, an iterator is an object that implements the iterator protocol, which consists of two methods: iter() and \n",
    "next(). Iterators are used to traverse or loop over a collection of elements, allowing us to access each element one at a \n",
    "time without loading the entire collection into memory.'''\n",
    "''' iter() method used to initialise the iterator object and next() method used for iteration.'''\n",
    "\n",
    "list1 = [2, 4, 6, 8, 10, 12, 14,16, 18, 20]\n",
    "iterator = iter(list1)\n",
    "print(next(iterator))\n",
    "print(next(iterator))\n",
    "print(next(iterator))\n",
    "print(next(iterator))\n",
    "print(next(iterator))"
   ]
  },
  {
   "cell_type": "code",
   "execution_count": 4,
   "id": "594f2e4e-a98c-4bb2-ab5b-20a44e77f97c",
   "metadata": {},
   "outputs": [
    {
     "name": "stdout",
     "output_type": "stream",
     "text": [
      "0\n",
      "1\n",
      "1\n",
      "2\n",
      "3\n",
      "5\n",
      "8\n",
      "13\n",
      "21\n",
      "34\n"
     ]
    }
   ],
   "source": [
    "''' In Python, a generator function is a special type of function that generates a sequence of values using the yield keyword \n",
    "instead of return. It allows us to define an iterator in a more concise way.'''\n",
    "\n",
    "''' The yield keyword is used to define a point at which the function will temporarily suspend its execution and yield a \n",
    "value to the caller. It allows the generator function to generate a sequence of values one at a time, rather than computing \n",
    "and returning all the values at once.'''\n",
    "\n",
    "def generate_fibonaci(n):\n",
    "    a, b = 0, 1\n",
    "    for i in range(n):\n",
    "        yield a\n",
    "        a, b = b, a+b\n",
    "        \n",
    "for i in generate_fibonaci(10):\n",
    "    print(i)"
   ]
  },
  {
   "cell_type": "code",
   "execution_count": 5,
   "id": "3080ce2e-a37c-4ac0-bf7a-8b9bcdf968ca",
   "metadata": {},
   "outputs": [
    {
     "name": "stdout",
     "output_type": "stream",
     "text": [
      "2\n",
      "3\n",
      "5\n",
      "7\n",
      "11\n",
      "13\n",
      "17\n",
      "19\n",
      "23\n",
      "29\n",
      "31\n",
      "37\n",
      "41\n",
      "43\n",
      "47\n",
      "53\n",
      "59\n",
      "61\n",
      "67\n",
      "71\n"
     ]
    }
   ],
   "source": [
    "def generate_primes():\n",
    "    primes = []\n",
    "    number = 2\n",
    "    while number < 1000:\n",
    "        is_prime = True\n",
    "        for prime in primes:\n",
    "            if number % prime == 0:\n",
    "                is_prime = False\n",
    "                break\n",
    "        if is_prime:\n",
    "            primes.append(number)\n",
    "            yield number\n",
    "        number += 1\n",
    "\n",
    "\n",
    "prime_generator = generate_primes()\n",
    "for _ in range(20):\n",
    "    prime = next(prime_generator)\n",
    "    print(prime)\n"
   ]
  },
  {
   "cell_type": "code",
   "execution_count": 6,
   "id": "936837ac-96ff-4d3c-8fe7-f4ae8000387d",
   "metadata": {},
   "outputs": [
    {
     "name": "stdout",
     "output_type": "stream",
     "text": [
      "0\n",
      "1\n",
      "1\n",
      "2\n",
      "3\n",
      "5\n",
      "8\n",
      "13\n",
      "21\n",
      "34\n"
     ]
    }
   ],
   "source": [
    "def print_fibonacci():\n",
    "    \n",
    "    a, b = 0, 1\n",
    "    count = 0\n",
    "\n",
    "    \n",
    "    while count < 10:\n",
    "        print(a)\n",
    "        a, b = b, a + b\n",
    "        count += 1\n",
    "\n",
    "\n",
    "print_fibonacci()\n"
   ]
  },
  {
   "cell_type": "code",
   "execution_count": 7,
   "id": "d7fec6b6-922e-4a4a-a783-40e77f352c23",
   "metadata": {},
   "outputs": [
    {
     "name": "stdout",
     "output_type": "stream",
     "text": [
      "['p', 'w', 's', 'k', 'i', 'l', 'l', 's']\n"
     ]
    }
   ],
   "source": [
    "string = 'pwskills'\n",
    "result = [char for char in string]\n",
    "print(result)"
   ]
  },
  {
   "cell_type": "code",
   "execution_count": 8,
   "id": "28f31a85-ccb1-402b-afaa-14fdbda70b21",
   "metadata": {},
   "outputs": [
    {
     "name": "stdin",
     "output_type": "stream",
     "text": [
      "Enter a number:  101\n"
     ]
    },
    {
     "name": "stdout",
     "output_type": "stream",
     "text": [
      "101 is a palindrome\n"
     ]
    }
   ],
   "source": [
    "def is_palindrome(number):\n",
    "    original_number = number\n",
    "    reversed_number = 0\n",
    "\n",
    "    while number > 0:\n",
    "        digit = number % 10\n",
    "        reversed_number = (reversed_number * 10) + digit\n",
    "        number = number // 10\n",
    "\n",
    "    if original_number == reversed_number:\n",
    "        return True\n",
    "    else:\n",
    "        return False\n",
    "\n",
    "\n",
    "num = int(input(\"Enter a number: \"))\n",
    "\n",
    "if is_palindrome(num):\n",
    "    print(f\"{num} is a palindrome\")\n",
    "else:\n",
    "    print(f\"{num} is not a palindrome\")\n"
   ]
  },
  {
   "cell_type": "code",
   "execution_count": 9,
   "id": "9acb3aa9-9424-4cec-b7b7-de8f96240704",
   "metadata": {},
   "outputs": [
    {
     "name": "stdout",
     "output_type": "stream",
     "text": [
      "[1, 3, 5, 7, 9, 11, 13, 15, 17, 19, 21, 23, 25, 27, 29, 31, 33, 35, 37, 39, 41, 43, 45, 47, 49, 51, 53, 55, 57, 59, 61, 63, 65, 67, 69, 71, 73, 75, 77, 79, 81, 83, 85, 87, 89, 91, 93, 95, 97, 99]\n"
     ]
    }
   ],
   "source": [
    "Number = [1, 3, 5, 7, 9, 11, 13, 15, 17, 19, 21, 23, 25, 27, 29, 31, 33, 35, 37, 39, 41, 43, 45, 47, 49, 51, 53, 55, 57, 59, 61, 63, 65, 67, 69, 71, 73, 75, 77, 79, 81, 83, 85, 87, 89, 91, 93, 95, 97, 99]\n",
    "\n",
    "print(list(filter(lambda x: x%2 != 0,Number)))"
   ]
  },
  {
   "cell_type": "code",
   "execution_count": null,
   "id": "638bc861-4e27-4b36-bab2-3513a405b0d4",
   "metadata": {},
   "outputs": [],
   "source": []
  }
 ],
 "metadata": {
  "kernelspec": {
   "display_name": "Python 3 (ipykernel)",
   "language": "python",
   "name": "python3"
  },
  "language_info": {
   "codemirror_mode": {
    "name": "ipython",
    "version": 3
   },
   "file_extension": ".py",
   "mimetype": "text/x-python",
   "name": "python",
   "nbconvert_exporter": "python",
   "pygments_lexer": "ipython3",
   "version": "3.10.8"
  }
 },
 "nbformat": 4,
 "nbformat_minor": 5
}
